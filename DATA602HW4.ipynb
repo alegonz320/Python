{
  "nbformat": 4,
  "nbformat_minor": 0,
  "metadata": {
    "colab": {
      "provenance": []
    },
    "kernelspec": {
      "name": "python3",
      "display_name": "Python 3"
    },
    "language_info": {
      "name": "python"
    }
  },
  "cells": [
    {
      "cell_type": "code",
      "execution_count": null,
      "metadata": {
        "id": "qReuvxu_OK73",
        "colab": {
          "base_uri": "https://localhost:8080/"
        },
        "outputId": "64391c41-e25a-4812-f2e4-1648cbe86399"
      },
      "outputs": [
        {
          "output_type": "stream",
          "name": "stderr",
          "text": [
            "[nltk_data] Downloading package stopwords to /root/nltk_data...\n",
            "[nltk_data]   Package stopwords is already up-to-date!\n"
          ]
        }
      ],
      "source": [
        "import nltk\n",
        "import numpy as np\n",
        "import pandas as pd\n",
        "from nltk.corpus import stopwords\n",
        "from nltk.tokenize import word_tokenize\n",
        "from nltk.corpus import words\n",
        "from nltk.probability import FreqDist\n",
        "import re\n",
        "from bs4 import BeautifulSoup as bs\n",
        "from wordcloud import WordCloud\n",
        "import matplotlib.pyplot as plt\n",
        "from sklearn.model_selection import train_test_split\n",
        "from sklearn.naive_bayes import BernoulliNB, MultinomialNB, GaussianNB\n",
        "from sklearn.feature_extraction.text import CountVectorizer\n",
        "nltk.download('stopwords')\n",
        "from sklearn.linear_model import LogisticRegression\n",
        "from sklearn.metrics import roc_auc_score\n",
        "from sklearn.metrics import accuracy_score"
      ]
    },
    {
      "cell_type": "code",
      "source": [
        "from subprocess import check_output\n",
        "print(check_output([\"ls\", \"../content\"]).decode(\"utf8\"))"
      ],
      "metadata": {
        "colab": {
          "base_uri": "https://localhost:8080/"
        },
        "id": "7ikXfrI1WpSP",
        "outputId": "73d612d3-7c90-47c8-b223-649d8f411855"
      },
      "execution_count": null,
      "outputs": [
        {
          "output_type": "stream",
          "name": "stdout",
          "text": [
            "finefoods_training.txt\n",
            "sample_data\n",
            "\n"
          ]
        }
      ]
    },
    {
      "cell_type": "code",
      "source": [
        "with open('finefoods_training.txt','r', encoding='latin-1') as f:\n",
        "    data = f.read()\n",
        "columns_list=['review/profileName', 'review/score', 'review/summary', 'review/text', 'review/time', 'review/userId', 'review/helpfulness']\n",
        "\n",
        "ff_df = pd.DataFrame([\n",
        "    {line.split(': ')[0]:': '.join(line.split(': ')[1:]) \n",
        "     for line in record.split('\\n') if line.split(': ')[0] in columns_list}\n",
        "    for record in data.split('\\n\\n')])\n",
        "\n",
        "print(ff_df)"
      ],
      "metadata": {
        "colab": {
          "base_uri": "https://localhost:8080/"
        },
        "id": "gYhMwnEFf4W2",
        "outputId": "7d1c7583-89ff-4cbf-826a-5bb1bcfb36db"
      },
      "execution_count": null,
      "outputs": [
        {
          "output_type": "stream",
          "name": "stdout",
          "text": [
            "       review/userId                            review/profileName  \\\n",
            "0     A3SGXH7AUHU8GW                                    delmartian   \n",
            "1     A1D87F6ZCVE5NK                                        dll pa   \n",
            "2      ABXLMWJIXXAIN               Natalia Corres \"Natalia Corres\"   \n",
            "3     A395BORC6FGVXV                                          Karl   \n",
            "4     A1UQRSCLF8GW1T                 Michael D. Bigham \"M. Wassir\"   \n",
            "...              ...                                           ...   \n",
            "1996  A35W3JQYP0M655                       Ambergris \"John Thomas\"   \n",
            "1997  A3CLWZGMC7M9Z1                     Hippie2MARS \"Hippie2MARS\"   \n",
            "1998  A2V6P1FKRHCVQQ                                    S. Jackson   \n",
            "1999   AZ9N3928BGQ0E  J. Nachison \"long-time SF and history lover\"   \n",
            "2000             NaN                                           NaN   \n",
            "\n",
            "     review/helpfulness review/score review/time  \\\n",
            "0                   1/1          5.0  1303862400   \n",
            "1                   0/0          1.0  1346976000   \n",
            "2                   1/1          4.0  1219017600   \n",
            "3                   3/3          2.0  1307923200   \n",
            "4                   0/0          5.0  1350777600   \n",
            "...                 ...          ...         ...   \n",
            "1996                7/7          5.0  1279929600   \n",
            "1997                6/6          4.0  1250640000   \n",
            "1998                8/9          4.0  1265760000   \n",
            "1999                7/8          5.0  1206835200   \n",
            "2000                NaN          NaN         NaN   \n",
            "\n",
            "                      review/summary  \\\n",
            "0              Good Quality Dog Food   \n",
            "1                  Not as Advertised   \n",
            "2              \"Delight\" says it all   \n",
            "3                     Cough Medicine   \n",
            "4                        Great taffy   \n",
            "...                              ...   \n",
            "1996  Excellent Fluffy Pancakes.....   \n",
            "1997                  Good Basic Mix   \n",
            "1998     Good pancakes, lots of work   \n",
            "1999          waffles, schmaffles !!   \n",
            "2000                             NaN   \n",
            "\n",
            "                                            review/text  \n",
            "0     I have bought several of the Vitality canned d...  \n",
            "1     Product arrived labeled as Jumbo Salted Peanut...  \n",
            "2     This is a confection that has been around a fe...  \n",
            "3     If you are looking for the secret ingredient i...  \n",
            "4     Great taffy at a great price.  There was a wid...  \n",
            "...                                                 ...  \n",
            "1996  I had read some favorable reviews of this panc...  \n",
            "1997  I was expecting great things based on the revi...  \n",
            "1998  I love this pancake mix.  I bought my first ca...  \n",
            "1999  What can i say??  They are wonderful, and the ...  \n",
            "2000                                                NaN  \n",
            "\n",
            "[2001 rows x 7 columns]\n"
          ]
        }
      ]
    },
    {
      "cell_type": "code",
      "source": [
        "ff_df['review/score'] = ff_df['review/score'].astype(float)"
      ],
      "metadata": {
        "id": "-RaREm2Z2Mkj"
      },
      "execution_count": null,
      "outputs": []
    },
    {
      "cell_type": "code",
      "source": [
        "ff_df.dropna(inplace=True)\n",
        "ff_df[ff_df['review/score'] != 3.0]\n",
        "ff_df['review/positive'] = np.where(ff_df['review/score'] > 3.0, 1, 0)\n",
        "ff_df.head()\n",
        "#ff_df.shape\n",
        "\n",
        "#If a review is positive, the column will identify as 1, if it is negative, then 0\n",
        "#All 3.0 scores were eliminated as neutral reviews"
      ],
      "metadata": {
        "colab": {
          "base_uri": "https://localhost:8080/",
          "height": 600
        },
        "id": "W2kMM98bzCk4",
        "outputId": "f349dd42-87fe-44da-d064-87e230c6092f"
      },
      "execution_count": null,
      "outputs": [
        {
          "output_type": "execute_result",
          "data": {
            "text/plain": [
              "    review/userId               review/profileName review/helpfulness  \\\n",
              "0  A3SGXH7AUHU8GW                       delmartian                1/1   \n",
              "1  A1D87F6ZCVE5NK                           dll pa                0/0   \n",
              "2   ABXLMWJIXXAIN  Natalia Corres \"Natalia Corres\"                1/1   \n",
              "3  A395BORC6FGVXV                             Karl                3/3   \n",
              "4  A1UQRSCLF8GW1T    Michael D. Bigham \"M. Wassir\"                0/0   \n",
              "\n",
              "   review/score review/time         review/summary  \\\n",
              "0           5.0  1303862400  Good Quality Dog Food   \n",
              "1           1.0  1346976000      Not as Advertised   \n",
              "2           4.0  1219017600  \"Delight\" says it all   \n",
              "3           2.0  1307923200         Cough Medicine   \n",
              "4           5.0  1350777600            Great taffy   \n",
              "\n",
              "                                         review/text  review/positive  \n",
              "0  I have bought several of the Vitality canned d...                1  \n",
              "1  Product arrived labeled as Jumbo Salted Peanut...                0  \n",
              "2  This is a confection that has been around a fe...                1  \n",
              "3  If you are looking for the secret ingredient i...                0  \n",
              "4  Great taffy at a great price.  There was a wid...                1  "
            ],
            "text/html": [
              "\n",
              "  <div id=\"df-9c10b605-ff69-4015-8c72-e9f02dad21da\">\n",
              "    <div class=\"colab-df-container\">\n",
              "      <div>\n",
              "<style scoped>\n",
              "    .dataframe tbody tr th:only-of-type {\n",
              "        vertical-align: middle;\n",
              "    }\n",
              "\n",
              "    .dataframe tbody tr th {\n",
              "        vertical-align: top;\n",
              "    }\n",
              "\n",
              "    .dataframe thead th {\n",
              "        text-align: right;\n",
              "    }\n",
              "</style>\n",
              "<table border=\"1\" class=\"dataframe\">\n",
              "  <thead>\n",
              "    <tr style=\"text-align: right;\">\n",
              "      <th></th>\n",
              "      <th>review/userId</th>\n",
              "      <th>review/profileName</th>\n",
              "      <th>review/helpfulness</th>\n",
              "      <th>review/score</th>\n",
              "      <th>review/time</th>\n",
              "      <th>review/summary</th>\n",
              "      <th>review/text</th>\n",
              "      <th>review/positive</th>\n",
              "    </tr>\n",
              "  </thead>\n",
              "  <tbody>\n",
              "    <tr>\n",
              "      <th>0</th>\n",
              "      <td>A3SGXH7AUHU8GW</td>\n",
              "      <td>delmartian</td>\n",
              "      <td>1/1</td>\n",
              "      <td>5.0</td>\n",
              "      <td>1303862400</td>\n",
              "      <td>Good Quality Dog Food</td>\n",
              "      <td>I have bought several of the Vitality canned d...</td>\n",
              "      <td>1</td>\n",
              "    </tr>\n",
              "    <tr>\n",
              "      <th>1</th>\n",
              "      <td>A1D87F6ZCVE5NK</td>\n",
              "      <td>dll pa</td>\n",
              "      <td>0/0</td>\n",
              "      <td>1.0</td>\n",
              "      <td>1346976000</td>\n",
              "      <td>Not as Advertised</td>\n",
              "      <td>Product arrived labeled as Jumbo Salted Peanut...</td>\n",
              "      <td>0</td>\n",
              "    </tr>\n",
              "    <tr>\n",
              "      <th>2</th>\n",
              "      <td>ABXLMWJIXXAIN</td>\n",
              "      <td>Natalia Corres \"Natalia Corres\"</td>\n",
              "      <td>1/1</td>\n",
              "      <td>4.0</td>\n",
              "      <td>1219017600</td>\n",
              "      <td>\"Delight\" says it all</td>\n",
              "      <td>This is a confection that has been around a fe...</td>\n",
              "      <td>1</td>\n",
              "    </tr>\n",
              "    <tr>\n",
              "      <th>3</th>\n",
              "      <td>A395BORC6FGVXV</td>\n",
              "      <td>Karl</td>\n",
              "      <td>3/3</td>\n",
              "      <td>2.0</td>\n",
              "      <td>1307923200</td>\n",
              "      <td>Cough Medicine</td>\n",
              "      <td>If you are looking for the secret ingredient i...</td>\n",
              "      <td>0</td>\n",
              "    </tr>\n",
              "    <tr>\n",
              "      <th>4</th>\n",
              "      <td>A1UQRSCLF8GW1T</td>\n",
              "      <td>Michael D. Bigham \"M. Wassir\"</td>\n",
              "      <td>0/0</td>\n",
              "      <td>5.0</td>\n",
              "      <td>1350777600</td>\n",
              "      <td>Great taffy</td>\n",
              "      <td>Great taffy at a great price.  There was a wid...</td>\n",
              "      <td>1</td>\n",
              "    </tr>\n",
              "  </tbody>\n",
              "</table>\n",
              "</div>\n",
              "      <button class=\"colab-df-convert\" onclick=\"convertToInteractive('df-9c10b605-ff69-4015-8c72-e9f02dad21da')\"\n",
              "              title=\"Convert this dataframe to an interactive table.\"\n",
              "              style=\"display:none;\">\n",
              "        \n",
              "  <svg xmlns=\"http://www.w3.org/2000/svg\" height=\"24px\"viewBox=\"0 0 24 24\"\n",
              "       width=\"24px\">\n",
              "    <path d=\"M0 0h24v24H0V0z\" fill=\"none\"/>\n",
              "    <path d=\"M18.56 5.44l.94 2.06.94-2.06 2.06-.94-2.06-.94-.94-2.06-.94 2.06-2.06.94zm-11 1L8.5 8.5l.94-2.06 2.06-.94-2.06-.94L8.5 2.5l-.94 2.06-2.06.94zm10 10l.94 2.06.94-2.06 2.06-.94-2.06-.94-.94-2.06-.94 2.06-2.06.94z\"/><path d=\"M17.41 7.96l-1.37-1.37c-.4-.4-.92-.59-1.43-.59-.52 0-1.04.2-1.43.59L10.3 9.45l-7.72 7.72c-.78.78-.78 2.05 0 2.83L4 21.41c.39.39.9.59 1.41.59.51 0 1.02-.2 1.41-.59l7.78-7.78 2.81-2.81c.8-.78.8-2.07 0-2.86zM5.41 20L4 18.59l7.72-7.72 1.47 1.35L5.41 20z\"/>\n",
              "  </svg>\n",
              "      </button>\n",
              "      \n",
              "  <style>\n",
              "    .colab-df-container {\n",
              "      display:flex;\n",
              "      flex-wrap:wrap;\n",
              "      gap: 12px;\n",
              "    }\n",
              "\n",
              "    .colab-df-convert {\n",
              "      background-color: #E8F0FE;\n",
              "      border: none;\n",
              "      border-radius: 50%;\n",
              "      cursor: pointer;\n",
              "      display: none;\n",
              "      fill: #1967D2;\n",
              "      height: 32px;\n",
              "      padding: 0 0 0 0;\n",
              "      width: 32px;\n",
              "    }\n",
              "\n",
              "    .colab-df-convert:hover {\n",
              "      background-color: #E2EBFA;\n",
              "      box-shadow: 0px 1px 2px rgba(60, 64, 67, 0.3), 0px 1px 3px 1px rgba(60, 64, 67, 0.15);\n",
              "      fill: #174EA6;\n",
              "    }\n",
              "\n",
              "    [theme=dark] .colab-df-convert {\n",
              "      background-color: #3B4455;\n",
              "      fill: #D2E3FC;\n",
              "    }\n",
              "\n",
              "    [theme=dark] .colab-df-convert:hover {\n",
              "      background-color: #434B5C;\n",
              "      box-shadow: 0px 1px 3px 1px rgba(0, 0, 0, 0.15);\n",
              "      filter: drop-shadow(0px 1px 2px rgba(0, 0, 0, 0.3));\n",
              "      fill: #FFFFFF;\n",
              "    }\n",
              "  </style>\n",
              "\n",
              "      <script>\n",
              "        const buttonEl =\n",
              "          document.querySelector('#df-9c10b605-ff69-4015-8c72-e9f02dad21da button.colab-df-convert');\n",
              "        buttonEl.style.display =\n",
              "          google.colab.kernel.accessAllowed ? 'block' : 'none';\n",
              "\n",
              "        async function convertToInteractive(key) {\n",
              "          const element = document.querySelector('#df-9c10b605-ff69-4015-8c72-e9f02dad21da');\n",
              "          const dataTable =\n",
              "            await google.colab.kernel.invokeFunction('convertToInteractive',\n",
              "                                                     [key], {});\n",
              "          if (!dataTable) return;\n",
              "\n",
              "          const docLinkHtml = 'Like what you see? Visit the ' +\n",
              "            '<a target=\"_blank\" href=https://colab.research.google.com/notebooks/data_table.ipynb>data table notebook</a>'\n",
              "            + ' to learn more about interactive tables.';\n",
              "          element.innerHTML = '';\n",
              "          dataTable['output_type'] = 'display_data';\n",
              "          await google.colab.output.renderOutput(dataTable, element);\n",
              "          const docLink = document.createElement('div');\n",
              "          docLink.innerHTML = docLinkHtml;\n",
              "          element.appendChild(docLink);\n",
              "        }\n",
              "      </script>\n",
              "    </div>\n",
              "  </div>\n",
              "  "
            ]
          },
          "metadata": {},
          "execution_count": 92
        }
      ]
    },
    {
      "cell_type": "code",
      "source": [
        "copy_ff_df = ff_df.drop_duplicates(subset = {'review/userId', 'review/text', 'review/profileName'}, keep = 'first', inplace=False)\n",
        "copy_ff_df.shape"
      ],
      "metadata": {
        "colab": {
          "base_uri": "https://localhost:8080/"
        },
        "id": "3ocwVDoc546n",
        "outputId": "1555d97b-8c52-490e-bc3b-f97bf5cd6c5f"
      },
      "execution_count": null,
      "outputs": [
        {
          "output_type": "execute_result",
          "data": {
            "text/plain": [
              "(1996, 8)"
            ]
          },
          "metadata": {},
          "execution_count": 93
        }
      ]
    },
    {
      "cell_type": "code",
      "source": [
        "copy_ff_df = copy_ff_df.rename({'review/text': 'review'}, axis=1)\n",
        "copy_ff_df.head()"
      ],
      "metadata": {
        "colab": {
          "base_uri": "https://localhost:8080/",
          "height": 739
        },
        "id": "LVPuY28PAuT8",
        "outputId": "d97f962f-f439-43c5-f4be-85f996d8c341"
      },
      "execution_count": null,
      "outputs": [
        {
          "output_type": "execute_result",
          "data": {
            "text/plain": [
              "    review/userId               review/profileName review/helpfulness  \\\n",
              "0  A3SGXH7AUHU8GW                       delmartian                1/1   \n",
              "1  A1D87F6ZCVE5NK                           dll pa                0/0   \n",
              "2   ABXLMWJIXXAIN  Natalia Corres \"Natalia Corres\"                1/1   \n",
              "3  A395BORC6FGVXV                             Karl                3/3   \n",
              "4  A1UQRSCLF8GW1T    Michael D. Bigham \"M. Wassir\"                0/0   \n",
              "\n",
              "   review/score review/time         review/summary  \\\n",
              "0           5.0  1303862400  Good Quality Dog Food   \n",
              "1           1.0  1346976000      Not as Advertised   \n",
              "2           4.0  1219017600  \"Delight\" says it all   \n",
              "3           2.0  1307923200         Cough Medicine   \n",
              "4           5.0  1350777600            Great taffy   \n",
              "\n",
              "                                              review  review/positive  \n",
              "0  I have bought several of the Vitality canned d...                1  \n",
              "1  Product arrived labeled as Jumbo Salted Peanut...                0  \n",
              "2  This is a confection that has been around a fe...                1  \n",
              "3  If you are looking for the secret ingredient i...                0  \n",
              "4  Great taffy at a great price.  There was a wid...                1  "
            ],
            "text/html": [
              "\n",
              "  <div id=\"df-c8b47c21-614e-4c06-9ddd-dfa4f901c097\">\n",
              "    <div class=\"colab-df-container\">\n",
              "      <div>\n",
              "<style scoped>\n",
              "    .dataframe tbody tr th:only-of-type {\n",
              "        vertical-align: middle;\n",
              "    }\n",
              "\n",
              "    .dataframe tbody tr th {\n",
              "        vertical-align: top;\n",
              "    }\n",
              "\n",
              "    .dataframe thead th {\n",
              "        text-align: right;\n",
              "    }\n",
              "</style>\n",
              "<table border=\"1\" class=\"dataframe\">\n",
              "  <thead>\n",
              "    <tr style=\"text-align: right;\">\n",
              "      <th></th>\n",
              "      <th>review/userId</th>\n",
              "      <th>review/profileName</th>\n",
              "      <th>review/helpfulness</th>\n",
              "      <th>review/score</th>\n",
              "      <th>review/time</th>\n",
              "      <th>review/summary</th>\n",
              "      <th>review</th>\n",
              "      <th>review/positive</th>\n",
              "    </tr>\n",
              "  </thead>\n",
              "  <tbody>\n",
              "    <tr>\n",
              "      <th>0</th>\n",
              "      <td>A3SGXH7AUHU8GW</td>\n",
              "      <td>delmartian</td>\n",
              "      <td>1/1</td>\n",
              "      <td>5.0</td>\n",
              "      <td>1303862400</td>\n",
              "      <td>Good Quality Dog Food</td>\n",
              "      <td>I have bought several of the Vitality canned d...</td>\n",
              "      <td>1</td>\n",
              "    </tr>\n",
              "    <tr>\n",
              "      <th>1</th>\n",
              "      <td>A1D87F6ZCVE5NK</td>\n",
              "      <td>dll pa</td>\n",
              "      <td>0/0</td>\n",
              "      <td>1.0</td>\n",
              "      <td>1346976000</td>\n",
              "      <td>Not as Advertised</td>\n",
              "      <td>Product arrived labeled as Jumbo Salted Peanut...</td>\n",
              "      <td>0</td>\n",
              "    </tr>\n",
              "    <tr>\n",
              "      <th>2</th>\n",
              "      <td>ABXLMWJIXXAIN</td>\n",
              "      <td>Natalia Corres \"Natalia Corres\"</td>\n",
              "      <td>1/1</td>\n",
              "      <td>4.0</td>\n",
              "      <td>1219017600</td>\n",
              "      <td>\"Delight\" says it all</td>\n",
              "      <td>This is a confection that has been around a fe...</td>\n",
              "      <td>1</td>\n",
              "    </tr>\n",
              "    <tr>\n",
              "      <th>3</th>\n",
              "      <td>A395BORC6FGVXV</td>\n",
              "      <td>Karl</td>\n",
              "      <td>3/3</td>\n",
              "      <td>2.0</td>\n",
              "      <td>1307923200</td>\n",
              "      <td>Cough Medicine</td>\n",
              "      <td>If you are looking for the secret ingredient i...</td>\n",
              "      <td>0</td>\n",
              "    </tr>\n",
              "    <tr>\n",
              "      <th>4</th>\n",
              "      <td>A1UQRSCLF8GW1T</td>\n",
              "      <td>Michael D. Bigham \"M. Wassir\"</td>\n",
              "      <td>0/0</td>\n",
              "      <td>5.0</td>\n",
              "      <td>1350777600</td>\n",
              "      <td>Great taffy</td>\n",
              "      <td>Great taffy at a great price.  There was a wid...</td>\n",
              "      <td>1</td>\n",
              "    </tr>\n",
              "  </tbody>\n",
              "</table>\n",
              "</div>\n",
              "      <button class=\"colab-df-convert\" onclick=\"convertToInteractive('df-c8b47c21-614e-4c06-9ddd-dfa4f901c097')\"\n",
              "              title=\"Convert this dataframe to an interactive table.\"\n",
              "              style=\"display:none;\">\n",
              "        \n",
              "  <svg xmlns=\"http://www.w3.org/2000/svg\" height=\"24px\"viewBox=\"0 0 24 24\"\n",
              "       width=\"24px\">\n",
              "    <path d=\"M0 0h24v24H0V0z\" fill=\"none\"/>\n",
              "    <path d=\"M18.56 5.44l.94 2.06.94-2.06 2.06-.94-2.06-.94-.94-2.06-.94 2.06-2.06.94zm-11 1L8.5 8.5l.94-2.06 2.06-.94-2.06-.94L8.5 2.5l-.94 2.06-2.06.94zm10 10l.94 2.06.94-2.06 2.06-.94-2.06-.94-.94-2.06-.94 2.06-2.06.94z\"/><path d=\"M17.41 7.96l-1.37-1.37c-.4-.4-.92-.59-1.43-.59-.52 0-1.04.2-1.43.59L10.3 9.45l-7.72 7.72c-.78.78-.78 2.05 0 2.83L4 21.41c.39.39.9.59 1.41.59.51 0 1.02-.2 1.41-.59l7.78-7.78 2.81-2.81c.8-.78.8-2.07 0-2.86zM5.41 20L4 18.59l7.72-7.72 1.47 1.35L5.41 20z\"/>\n",
              "  </svg>\n",
              "      </button>\n",
              "      \n",
              "  <style>\n",
              "    .colab-df-container {\n",
              "      display:flex;\n",
              "      flex-wrap:wrap;\n",
              "      gap: 12px;\n",
              "    }\n",
              "\n",
              "    .colab-df-convert {\n",
              "      background-color: #E8F0FE;\n",
              "      border: none;\n",
              "      border-radius: 50%;\n",
              "      cursor: pointer;\n",
              "      display: none;\n",
              "      fill: #1967D2;\n",
              "      height: 32px;\n",
              "      padding: 0 0 0 0;\n",
              "      width: 32px;\n",
              "    }\n",
              "\n",
              "    .colab-df-convert:hover {\n",
              "      background-color: #E2EBFA;\n",
              "      box-shadow: 0px 1px 2px rgba(60, 64, 67, 0.3), 0px 1px 3px 1px rgba(60, 64, 67, 0.15);\n",
              "      fill: #174EA6;\n",
              "    }\n",
              "\n",
              "    [theme=dark] .colab-df-convert {\n",
              "      background-color: #3B4455;\n",
              "      fill: #D2E3FC;\n",
              "    }\n",
              "\n",
              "    [theme=dark] .colab-df-convert:hover {\n",
              "      background-color: #434B5C;\n",
              "      box-shadow: 0px 1px 3px 1px rgba(0, 0, 0, 0.15);\n",
              "      filter: drop-shadow(0px 1px 2px rgba(0, 0, 0, 0.3));\n",
              "      fill: #FFFFFF;\n",
              "    }\n",
              "  </style>\n",
              "\n",
              "      <script>\n",
              "        const buttonEl =\n",
              "          document.querySelector('#df-c8b47c21-614e-4c06-9ddd-dfa4f901c097 button.colab-df-convert');\n",
              "        buttonEl.style.display =\n",
              "          google.colab.kernel.accessAllowed ? 'block' : 'none';\n",
              "\n",
              "        async function convertToInteractive(key) {\n",
              "          const element = document.querySelector('#df-c8b47c21-614e-4c06-9ddd-dfa4f901c097');\n",
              "          const dataTable =\n",
              "            await google.colab.kernel.invokeFunction('convertToInteractive',\n",
              "                                                     [key], {});\n",
              "          if (!dataTable) return;\n",
              "\n",
              "          const docLinkHtml = 'Like what you see? Visit the ' +\n",
              "            '<a target=\"_blank\" href=https://colab.research.google.com/notebooks/data_table.ipynb>data table notebook</a>'\n",
              "            + ' to learn more about interactive tables.';\n",
              "          element.innerHTML = '';\n",
              "          dataTable['output_type'] = 'display_data';\n",
              "          await google.colab.output.renderOutput(dataTable, element);\n",
              "          const docLink = document.createElement('div');\n",
              "          docLink.innerHTML = docLinkHtml;\n",
              "          element.appendChild(docLink);\n",
              "        }\n",
              "      </script>\n",
              "    </div>\n",
              "  </div>\n",
              "  "
            ]
          },
          "metadata": {},
          "execution_count": 94
        }
      ]
    },
    {
      "cell_type": "code",
      "source": [
        "text = \" \".join(review for review in copy_ff_df.review)\n",
        "\n",
        "\n",
        "wordcloud = WordCloud(max_font_size=50, max_words=100, background_color=\"white\", stopwords=stopwords.words(\"english\")).generate(text)\n",
        "plt.figure()\n",
        "plt.imshow(wordcloud, interpolation=\"bilinear\")\n",
        "plt.axis(\"off\")\n",
        "plt.show();"
      ],
      "metadata": {
        "colab": {
          "base_uri": "https://localhost:8080/",
          "height": 198
        },
        "id": "bBwhIk2-ZwKl",
        "outputId": "f8ab3476-ef7b-4ba8-f0dc-af9eeaba84b4"
      },
      "execution_count": null,
      "outputs": [
        {
          "output_type": "display_data",
          "data": {
            "text/plain": [
              "<Figure size 432x288 with 1 Axes>"
            ],
            "image/png": "[encoded data removed]"
          },
          "metadata": {
            "needs_background": "light"
          }
        }
      ]
    },
    {
      "cell_type": "code",
      "source": [
        "def clean(text):\n",
        "    no_html = bs(text).get_text()\n",
        "    clean = re.sub(\"[^a-z\\s]+\", \" \", no_html, flags=re.IGNORECASE)\n",
        "    return re.sub(\"(\\s+)\", \" \", clean)\n",
        " \n",
        "def tokenize(text):\n",
        "    clean = bs(text).get_text().lower()\n",
        "    stopwords_en = stopwords.words(\"english\")\n",
        "    return [w for w in re.split(\"\\W+\", clean) if not w in stopwords_en]"
      ],
      "metadata": {
        "id": "kz3pfqvIan8H"
      },
      "execution_count": null,
      "outputs": []
    },
    {
      "cell_type": "code",
      "source": [
        "X = copy_ff_df['review']\n",
        "X_cleaned = X.apply(clean)\n",
        "X_cleaned = X.apply(tokenize)\n",
        "X_cleaned"
      ],
      "metadata": {
        "colab": {
          "base_uri": "https://localhost:8080/"
        },
        "id": "I39H06POe331",
        "outputId": "fdeb6527-11c5-496e-8ef0-650617d5c6ed"
      },
      "execution_count": null,
      "outputs": [
        {
          "output_type": "execute_result",
          "data": {
            "text/plain": [
              "0       [bought, several, vitality, canned, dog, food,...\n",
              "1       [product, arrived, labeled, jumbo, salted, pea...\n",
              "2       [confection, around, centuries, light, pillowy...\n",
              "3       [looking, secret, ingredient, robitussin, beli...\n",
              "4       [great, taffy, great, price, wide, assortment,...\n",
              "                              ...                        \n",
              "1995    [laugh, reviews, said, much, work, add, egg, l...\n",
              "1996    [read, favorable, reviews, pancake, mix, amazo...\n",
              "1997    [expecting, great, things, based, reviews, goo...\n",
              "1998    [love, pancake, mix, bought, first, whole, foo...\n",
              "1999    [say, wonderful, highlight, weekend, ohhhhhh, ...\n",
              "Name: review, Length: 1996, dtype: object"
            ]
          },
          "metadata": {},
          "execution_count": 13
        }
      ]
    },
    {
      "cell_type": "code",
      "source": [
        "X_train, X_test, y_train, y_test = train_test_split(copy_ff_df['review'], copy_ff_df['review/positive'], random_state = 0)\n",
        "print('X_train first entry: \\n\\n', X_train[0])\n",
        "print('\\n\\nX_train shape: ', X_train.shape)"
      ],
      "metadata": {
        "colab": {
          "base_uri": "https://localhost:8080/"
        },
        "id": "FRkzSky0dPYQ",
        "outputId": "3e466113-2c19-4f50-b46d-a20133519bca"
      },
      "execution_count": null,
      "outputs": [
        {
          "output_type": "stream",
          "name": "stdout",
          "text": [
            "X_train first entry: \n",
            "\n",
            " I have bought several of the Vitality canned dog food products and have found them all to be of good quality. The product looks more like a stew than a processed meat and it smells better. My Labrador is finicky and she appreciates this product better than  most.\n",
            "\n",
            "\n",
            "X_train shape:  (1497,)\n"
          ]
        }
      ]
    },
    {
      "cell_type": "code",
      "source": [
        "vect = CountVectorizer().fit(X_train)\n",
        "vect\n",
        "vect.get_feature_names_out()[::2000]"
      ],
      "metadata": {
        "colab": {
          "base_uri": "https://localhost:8080/"
        },
        "id": "6WKTc-1bBzPU",
        "outputId": "70b19ef2-375e-4c5b-8ce7-cd9b7ca73db0"
      },
      "execution_count": null,
      "outputs": [
        {
          "output_type": "execute_result",
          "data": {
            "text/plain": [
              "array(['00', 'discovered', 'melts', 'spillage'], dtype=object)"
            ]
          },
          "metadata": {},
          "execution_count": 74
        }
      ]
    },
    {
      "cell_type": "code",
      "source": [
        "len(vect.get_feature_names_out())"
      ],
      "metadata": {
        "colab": {
          "base_uri": "https://localhost:8080/"
        },
        "id": "eCkv8gYMCQx5",
        "outputId": "b4b08a0e-108a-43bd-898f-108072191f84"
      },
      "execution_count": null,
      "outputs": [
        {
          "output_type": "execute_result",
          "data": {
            "text/plain": [
              "7259"
            ]
          },
          "metadata": {},
          "execution_count": 73
        }
      ]
    },
    {
      "cell_type": "code",
      "source": [
        "X_train_vectorized = vect.transform(X_train)\n",
        "X_train_vectorized.toarray()"
      ],
      "metadata": {
        "colab": {
          "base_uri": "https://localhost:8080/"
        },
        "id": "DSoFcTEVCVn1",
        "outputId": "7414fcfb-148a-438a-c605-82f65f030900"
      },
      "execution_count": null,
      "outputs": [
        {
          "output_type": "execute_result",
          "data": {
            "text/plain": [
              "array([[0, 0, 0, ..., 0, 0, 0],\n",
              "       [0, 0, 0, ..., 0, 0, 0],\n",
              "       [0, 0, 0, ..., 0, 0, 0],\n",
              "       ...,\n",
              "       [0, 0, 0, ..., 0, 0, 0],\n",
              "       [0, 0, 0, ..., 0, 0, 0],\n",
              "       [0, 0, 0, ..., 0, 0, 0]])"
            ]
          },
          "metadata": {},
          "execution_count": 75
        }
      ]
    },
    {
      "cell_type": "code",
      "source": [
        "model = LogisticRegression()\n",
        "model.fit(X_train_vectorized, y_train)"
      ],
      "metadata": {
        "colab": {
          "base_uri": "https://localhost:8080/"
        },
        "id": "TL-t6hxBCmGM",
        "outputId": "6629f6b8-094e-4374-9076-fd219efb4712"
      },
      "execution_count": null,
      "outputs": [
        {
          "output_type": "stream",
          "name": "stderr",
          "text": [
            "/usr/local/lib/python3.8/dist-packages/sklearn/linear_model/_logistic.py:814: ConvergenceWarning: lbfgs failed to converge (status=1):\n",
            "STOP: TOTAL NO. of ITERATIONS REACHED LIMIT.\n",
            "\n",
            "Increase the number of iterations (max_iter) or scale the data as shown in:\n",
            "    https://scikit-learn.org/stable/modules/preprocessing.html\n",
            "Please also refer to the documentation for alternative solver options:\n",
            "    https://scikit-learn.org/stable/modules/linear_model.html#logistic-regression\n",
            "  n_iter_i = _check_optimize_result(\n"
          ]
        },
        {
          "output_type": "execute_result",
          "data": {
            "text/plain": [
              "LogisticRegression()"
            ]
          },
          "metadata": {},
          "execution_count": 76
        }
      ]
    },
    {
      "cell_type": "code",
      "source": [
        "predictions = model.predict(vect.transform(X_test))\n",
        "score = accuracy_score(y_test, predictions)\n",
        "print(score)"
      ],
      "metadata": {
        "colab": {
          "base_uri": "https://localhost:8080/"
        },
        "id": "_YXfCZuQDAaV",
        "outputId": "bcc7284e-150e-43af-8eab-dc85ed933e70"
      },
      "execution_count": null,
      "outputs": [
        {
          "output_type": "stream",
          "name": "stdout",
          "text": [
            "0.8316633266533067\n"
          ]
        }
      ]
    },
    {
      "cell_type": "code",
      "source": [
        "X_train, X_test, y_train, y_test = train_test_split(copy_ff_df['review/userId'], copy_ff_df['review/score'], random_state = 0)\n",
        "print('X_train first entry: \\n\\n', X_train[0])\n",
        "print('\\n\\nX_train shape: ', X_train.shape)"
      ],
      "metadata": {
        "colab": {
          "base_uri": "https://localhost:8080/"
        },
        "id": "00hvvJ8gDRgC",
        "outputId": "20c4dd47-ddff-47ff-e81a-5a9cc35ea660"
      },
      "execution_count": null,
      "outputs": [
        {
          "output_type": "stream",
          "name": "stdout",
          "text": [
            "X_train first entry: \n",
            "\n",
            " A3SGXH7AUHU8GW\n",
            "\n",
            "\n",
            "X_train shape:  (1497,)\n"
          ]
        }
      ]
    },
    {
      "cell_type": "code",
      "source": [
        "vect = CountVectorizer().fit(X_train)\n",
        "vect\n",
        "vect.get_feature_names_out()[::2000]"
      ],
      "metadata": {
        "colab": {
          "base_uri": "https://localhost:8080/"
        },
        "id": "zx-QfiUIENJz",
        "outputId": "19a8535b-11ee-4f83-8f2a-dd82e618a044"
      },
      "execution_count": null,
      "outputs": [
        {
          "output_type": "execute_result",
          "data": {
            "text/plain": [
              "array(['a103ezcs9h8ww1'], dtype=object)"
            ]
          },
          "metadata": {},
          "execution_count": 79
        }
      ]
    },
    {
      "cell_type": "code",
      "source": [
        "len(vect.get_feature_names_out())"
      ],
      "metadata": {
        "colab": {
          "base_uri": "https://localhost:8080/"
        },
        "id": "K4WD_4DMEQ3S",
        "outputId": "984f9fec-6248-4e1d-857f-fa3f5bde9478"
      },
      "execution_count": null,
      "outputs": [
        {
          "output_type": "execute_result",
          "data": {
            "text/plain": [
              "1473"
            ]
          },
          "metadata": {},
          "execution_count": 80
        }
      ]
    },
    {
      "cell_type": "code",
      "source": [
        "X_train_vectorized = vect.transform(X_train)\n",
        "X_train_vectorized.toarray()"
      ],
      "metadata": {
        "colab": {
          "base_uri": "https://localhost:8080/"
        },
        "id": "yxmuOjHCETkW",
        "outputId": "255195d1-86ec-4f7f-e859-1e93c146f84a"
      },
      "execution_count": null,
      "outputs": [
        {
          "output_type": "execute_result",
          "data": {
            "text/plain": [
              "array([[0, 0, 0, ..., 0, 0, 0],\n",
              "       [0, 0, 0, ..., 0, 0, 0],\n",
              "       [0, 0, 0, ..., 0, 0, 0],\n",
              "       ...,\n",
              "       [0, 0, 0, ..., 0, 0, 0],\n",
              "       [0, 0, 0, ..., 0, 0, 0],\n",
              "       [0, 0, 0, ..., 0, 0, 0]])"
            ]
          },
          "metadata": {},
          "execution_count": 81
        }
      ]
    },
    {
      "cell_type": "code",
      "source": [
        "model = LogisticRegression()\n",
        "model.fit(X_train_vectorized, y_train)"
      ],
      "metadata": {
        "colab": {
          "base_uri": "https://localhost:8080/"
        },
        "id": "RM7k7eSPEWRM",
        "outputId": "8ed8806b-a02c-46f7-d727-4ff10cc5cbf9"
      },
      "execution_count": null,
      "outputs": [
        {
          "output_type": "execute_result",
          "data": {
            "text/plain": [
              "LogisticRegression()"
            ]
          },
          "metadata": {},
          "execution_count": 82
        }
      ]
    },
    {
      "cell_type": "code",
      "source": [
        "predictions = model.predict(vect.transform(X_test))\n",
        "score = accuracy_score(y_test, predictions)\n",
        "print(score)"
      ],
      "metadata": {
        "colab": {
          "base_uri": "https://localhost:8080/"
        },
        "id": "62qyiM4OEX0m",
        "outputId": "fa8e3d3c-3c68-40a0-8911-121fdaa08c8f"
      },
      "execution_count": null,
      "outputs": [
        {
          "output_type": "stream",
          "name": "stdout",
          "text": [
            "0.6452905811623246\n"
          ]
        }
      ]
    },
    {
      "cell_type": "code",
      "source": [
        "X_train, X_test, y_train, y_test = train_test_split(copy_ff_df['review/profileName'], copy_ff_df['review/score'], random_state = 0)\n",
        "print('X_train first entry: \\n\\n', X_train[0])\n",
        "print('\\n\\nX_train shape: ', X_train.shape)\n",
        "vect = CountVectorizer().fit(X_train)\n",
        "vect\n",
        "vect.get_feature_names_out()[::2000]\n",
        "len(vect.get_feature_names_out())\n",
        "X_train_vectorized = vect.transform(X_train)\n",
        "X_train_vectorized.toarray()\n",
        "model = LogisticRegression()\n",
        "model.fit(X_train_vectorized, y_train)\n",
        "predictions = model.predict(vect.transform(X_test))\n",
        "score = accuracy_score(y_test, predictions)\n",
        "print(score)"
      ],
      "metadata": {
        "colab": {
          "base_uri": "https://localhost:8080/"
        },
        "id": "6uDOuJzuEtLd",
        "outputId": "f5928550-435c-41eb-a2f2-581303fef3f6"
      },
      "execution_count": null,
      "outputs": [
        {
          "output_type": "stream",
          "name": "stdout",
          "text": [
            "X_train first entry: \n",
            "\n",
            " delmartian\n",
            "\n",
            "\n",
            "X_train shape:  (1497,)\n",
            "0.6412825651302605\n"
          ]
        }
      ]
    },
    {
      "cell_type": "code",
      "source": [
        "X_train, X_test, y_train, y_test = train_test_split(copy_ff_df['review/time'], copy_ff_df['review/score'], random_state = 0)\n",
        "print('X_train first entry: \\n\\n', X_train[0])\n",
        "print('\\n\\nX_train shape: ', X_train.shape)\n",
        "vect = CountVectorizer().fit(X_train)\n",
        "vect\n",
        "vect.get_feature_names_out()[::2000]\n",
        "len(vect.get_feature_names_out())\n",
        "X_train_vectorized = vect.transform(X_train)\n",
        "X_train_vectorized.toarray()\n",
        "model = LogisticRegression()\n",
        "model.fit(X_train_vectorized, y_train)\n",
        "predictions = model.predict(vect.transform(X_test))\n",
        "score = accuracy_score(y_test, predictions)\n",
        "print(score)"
      ],
      "metadata": {
        "colab": {
          "base_uri": "https://localhost:8080/"
        },
        "id": "vuOYLZcnFLGA",
        "outputId": "9713cb08-5b5f-4aae-bec0-c48eea3784fb"
      },
      "execution_count": null,
      "outputs": [
        {
          "output_type": "stream",
          "name": "stdout",
          "text": [
            "X_train first entry: \n",
            "\n",
            " 1303862400\n",
            "\n",
            "\n",
            "X_train shape:  (1497,)\n",
            "0.6412825651302605\n"
          ]
        }
      ]
    },
    {
      "cell_type": "code",
      "source": [
        "X_train, X_test, y_train, y_test = train_test_split(copy_ff_df['review/summary'], copy_ff_df['review/score'], random_state = 0)\n",
        "print('X_train first entry: \\n\\n', X_train[0])\n",
        "print('\\n\\nX_train shape: ', X_train.shape)\n",
        "vect = CountVectorizer().fit(X_train)\n",
        "vect\n",
        "vect.get_feature_names_out()[::2000]\n",
        "len(vect.get_feature_names_out())\n",
        "X_train_vectorized = vect.transform(X_train)\n",
        "X_train_vectorized.toarray()\n",
        "model = LogisticRegression()\n",
        "model.fit(X_train_vectorized, y_train)\n",
        "predictions = model.predict(vect.transform(X_test))\n",
        "score = accuracy_score(y_test, predictions)\n",
        "print(score)"
      ],
      "metadata": {
        "colab": {
          "base_uri": "https://localhost:8080/"
        },
        "id": "7lOBZt9IFQ5e",
        "outputId": "d438c774-393d-4937-b48d-4f16895f0c2c"
      },
      "execution_count": null,
      "outputs": [
        {
          "output_type": "stream",
          "name": "stdout",
          "text": [
            "X_train first entry: \n",
            "\n",
            " Good Quality Dog Food\n",
            "\n",
            "\n",
            "X_train shape:  (1497,)\n",
            "0.6793587174348698\n"
          ]
        }
      ]
    },
    {
      "cell_type": "code",
      "source": [
        "X_train, X_test, y_train, y_test = train_test_split(copy_ff_df['review'], copy_ff_df['review/score'], random_state = 0)\n",
        "print('X_train first entry: \\n\\n', X_train[0])\n",
        "print('\\n\\nX_train shape: ', X_train.shape)\n",
        "vect = CountVectorizer().fit(X_train)\n",
        "vect\n",
        "vect.get_feature_names_out()[::2000]\n",
        "len(vect.get_feature_names_out())\n",
        "X_train_vectorized = vect.transform(X_train)\n",
        "X_train_vectorized.toarray()\n",
        "model = LogisticRegression()\n",
        "model.fit(X_train_vectorized, y_train)\n",
        "predictions = model.predict(vect.transform(X_test))\n",
        "score = accuracy_score(y_test, predictions)\n",
        "print(score)"
      ],
      "metadata": {
        "colab": {
          "base_uri": "https://localhost:8080/"
        },
        "id": "zDLKiX3gFV4b",
        "outputId": "ccce8e52-cf82-42d0-8178-938add1731f9"
      },
      "execution_count": null,
      "outputs": [
        {
          "output_type": "stream",
          "name": "stdout",
          "text": [
            "X_train first entry: \n",
            "\n",
            " I have bought several of the Vitality canned dog food products and have found them all to be of good quality. The product looks more like a stew than a processed meat and it smells better. My Labrador is finicky and she appreciates this product better than  most.\n",
            "\n",
            "\n",
            "X_train shape:  (1497,)\n",
            "0.6533066132264529\n"
          ]
        },
        {
          "output_type": "stream",
          "name": "stderr",
          "text": [
            "/usr/local/lib/python3.8/dist-packages/sklearn/linear_model/_logistic.py:814: ConvergenceWarning: lbfgs failed to converge (status=1):\n",
            "STOP: TOTAL NO. of ITERATIONS REACHED LIMIT.\n",
            "\n",
            "Increase the number of iterations (max_iter) or scale the data as shown in:\n",
            "    https://scikit-learn.org/stable/modules/preprocessing.html\n",
            "Please also refer to the documentation for alternative solver options:\n",
            "    https://scikit-learn.org/stable/modules/linear_model.html#logistic-regression\n",
            "  n_iter_i = _check_optimize_result(\n"
          ]
        }
      ]
    }
  ]
}